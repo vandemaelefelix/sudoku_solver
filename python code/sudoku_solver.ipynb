{
 "cells": [
  {
   "cell_type": "code",
   "execution_count": 11,
   "metadata": {},
   "outputs": [],
   "source": [
    "import numpy as np\n",
    "import random\n",
    "import copy "
   ]
  },
  {
   "cell_type": "code",
   "execution_count": 12,
   "metadata": {},
   "outputs": [],
   "source": [
    "sudoku = [\n",
    "    [5, 3, 0,   0, 7, 0,   0, 0, 0],\n",
    "    [6, 0, 0,   1, 9, 5,   0, 0, 0],\n",
    "    [0, 9, 8,   0, 0, 0,   0, 6, 0],\n",
    "\n",
    "    [8, 0, 0,   0, 6, 0,   0, 0, 3],\n",
    "    [4, 0, 0,   8, 0, 3,   0, 0, 1],\n",
    "    [7, 0, 0,   0, 2, 0,   0, 0, 6],\n",
    "\n",
    "    [0, 6, 0,   0, 0, 0,   2, 8, 0],\n",
    "    [0, 0, 0,   4, 1, 9,   0, 0, 5],\n",
    "    [0, 0, 0,   0, 8, 0,   0, 7, 9]\n",
    "]"
   ]
  },
  {
   "cell_type": "code",
   "execution_count": 13,
   "metadata": {},
   "outputs": [
    {
     "output_type": "stream",
     "name": "stdout",
     "text": ".   0 1 2     3 4 5     6 7 8\n\n0   5 3 0  |  0 7 0  |  0 0 0 \n1   6 0 0  |  1 9 5  |  0 0 0 \n2   0 9 8  |  0 0 0  |  0 6 0 \n    -------------------------\n3   8 0 0  |  0 6 0  |  0 0 3 \n4   4 0 0  |  8 0 3  |  0 0 1 \n5   7 0 0  |  0 2 0  |  0 0 6 \n    -------------------------\n6   0 6 0  |  0 0 0  |  2 8 0 \n7   0 0 0  |  4 1 9  |  0 0 5 \n8   0 0 0  |  0 8 0  |  0 7 9 \n"
    }
   ],
   "source": [
    "def print_sudoku(sudoku):\n",
    "    print('.   0 1 2     3 4 5     6 7 8')\n",
    "    print()\n",
    "    for i in range(len(sudoku)):\n",
    "        if i % 3 == 0 and i != 0:\n",
    "            print('    -------------------------')\n",
    "        # else:\n",
    "        print(i, end='   ')\n",
    "        for j in range(len(sudoku[i])):\n",
    "            if j % 3 == 0 and j != 0:\n",
    "                print(' | ', end=\" \")\n",
    "            print(sudoku[i][j], end=\" \")\n",
    "        print()\n",
    "\n",
    "print_sudoku(sudoku)"
   ]
  },
  {
   "cell_type": "code",
   "execution_count": 14,
   "metadata": {},
   "outputs": [],
   "source": [
    "def find_empty(sudoku):\n",
    "    for row_i, row in enumerate(sudoku):\n",
    "        for val_i, val in enumerate(row):\n",
    "            if val == 0:\n",
    "                return val_i, row_i\n",
    "    return None"
   ]
  },
  {
   "cell_type": "code",
   "execution_count": 15,
   "metadata": {},
   "outputs": [],
   "source": [
    "def validate(x, y, value, sudoku):\n",
    "\n",
    "    # Check row\n",
    "    for i in sudoku[y]:\n",
    "        if i == value:\n",
    "            return False\n",
    "\n",
    "    # Check column\n",
    "    for row in sudoku:\n",
    "        if value == row[x]:\n",
    "            return False\n",
    "    \n",
    "    square_x = x // 3\n",
    "    square_y = y // 3\n",
    "\n",
    "    for i in sudoku[square_y*3:square_y*3+3]:\n",
    "        if value in i[square_x*3:square_x*3+3]:\n",
    "            return False\n",
    "        \n",
    "    return True"
   ]
  },
  {
   "cell_type": "code",
   "execution_count": 16,
   "metadata": {},
   "outputs": [
    {
     "output_type": "execute_result",
     "data": {
      "text/plain": "True"
     },
     "metadata": {},
     "execution_count": 16
    }
   ],
   "source": [
    "validate(6, 7, 3, sudoku)"
   ]
  },
  {
   "cell_type": "code",
   "execution_count": 19,
   "metadata": {},
   "outputs": [
    {
     "output_type": "stream",
     "name": "stdout",
     "text": ".   0 1 2     3 4 5     6 7 8\n\n0   5 3 4  |  0 7 0  |  0 0 0 \n1   6 0 0  |  1 9 5  |  0 0 0 \n2   0 9 8  |  0 0 0  |  0 6 0 \n    -------------------------\n3   8 0 0  |  0 6 0  |  0 0 3 \n4   4 0 0  |  8 0 3  |  0 0 1 \n5   7 0 0  |  0 2 0  |  0 0 6 \n    -------------------------\n6   0 6 0  |  0 0 0  |  2 8 0 \n7   0 0 0  |  4 1 9  |  0 0 5 \n8   0 0 0  |  0 8 0  |  0 7 9 \n"
    }
   ],
   "source": [
    "def solve(sudoku):\n",
    "    empty = find_empty(board)\n",
    "\n",
    "    # If no empty cells are found, the sudoku board is solved\n",
    "    if not empty:\n",
    "        return True\n",
    "\n",
    "    x, y = empty\n",
    "\n",
    "    for i in range(1, 10):\n",
    "        if validate(x, y, i, sudoku):\n",
    "            sudoku[y][x] = i\n",
    "\n",
    "            if solve(sudoku):\n",
    "                return True\n",
    "\n",
    "            sudoku[y][x] = 0\n",
    "\n",
    "    return False\n",
    "\n",
    "board = copy.deepcopy(sudoku)\n",
    "solve(board)\n",
    "print_sudoku(board)"
   ]
  },
  {
   "cell_type": "code",
   "execution_count": 18,
   "metadata": {},
   "outputs": [],
   "source": [
    "# # def solve(board):\n",
    "# board = copy.deepcopy(sudoku)\n",
    "# for row_i, row in enumerate(sudoku):\n",
    "#     # for val_i, val in enumerate(row):\n",
    "#     val_i = 0\n",
    "#     while val_i < len(row):\n",
    "#         val = row[val_i]\n",
    "#         if val == 0:\n",
    "#             for index, number in enumerate(range(1,10)):\n",
    "#                 if validate(val_i, row_i, number, board):\n",
    "#                     board[row_i][val_i] = number\n",
    "#                     break\n",
    "#             else:\n",
    "#                 print(f'index: {index} No valid value was found in place ({val_i}, {row_i})')\n",
    "#                 # val_i -= 1\n",
    "#                 # for i in range(len(row)):\n",
    "#                 #     val_i -= 1\n",
    "#                 #     if sudoku[row_i][val_i] == 0:\n",
    "#                 #         break\n",
    "#         val_i += 1\n",
    "\n",
    "# print_sudoku(board)\n",
    "# print('\\n-------------------------------\\n')\n",
    "# print_sudoku(sudoku)"
   ]
  }
 ],
 "metadata": {
  "language_info": {
   "name": "python",
   "codemirror_mode": {
    "name": "ipython",
    "version": 3
   },
   "version": "3.7.7-final"
  },
  "orig_nbformat": 2,
  "file_extension": ".py",
  "mimetype": "text/x-python",
  "name": "python",
  "npconvert_exporter": "python",
  "pygments_lexer": "ipython3",
  "version": 3,
  "kernelspec": {
   "name": "python37764bit2038e49a930f47a897dae7afbf43bab2",
   "display_name": "Python 3.7.7 64-bit"
  }
 },
 "nbformat": 4,
 "nbformat_minor": 2
}